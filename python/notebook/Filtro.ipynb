{
 "cells": [
  {
   "cell_type": "markdown",
   "metadata": {},
   "source": [
    "# Filtro de dados\n",
    "\n",
    "Notebook criado com objetivo de selecionar os dados interessantes da base Parkinson’s Progression Markers Initiative (PPMI) a serem utilizados no trabalho de Introdução a Ciência dos Dados (ICD) ministrada pelo Departamento de Ciência da Computação (DCC) da Universidade Federal de Minas Gerais (UFMG)."
   ]
  },
  {
   "cell_type": "code",
   "execution_count": 1,
   "metadata": {},
   "outputs": [],
   "source": [
    "import pickle as pkl"
   ]
  },
  {
   "cell_type": "markdown",
   "metadata": {},
   "source": [
    "## Representação intermediária\n",
    "\n",
    "Criação do dicionário utilizado para representar as tabelas do banco consideradas interessantes para o trabalho, isto é, as tabelas que contém dados utilizáveis para previsão e classificação da doença de Parkinson."
   ]
  },
  {
   "cell_type": "code",
   "execution_count": 2,
   "metadata": {},
   "outputs": [],
   "source": [
    "interest = {}"
   ]
  },
  {
   "cell_type": "markdown",
   "metadata": {},
   "source": [
    "## Adição das colunas\n",
    "\n",
    "Adição das colunas de cada arquivo para a representação intermediária do banco"
   ]
  },
  {
   "cell_type": "code",
   "execution_count": 3,
   "metadata": {},
   "outputs": [],
   "source": [
    "interest[\"biospecimen\"] = \\\n",
    "[\n",
    "    \"PATNO\",\n",
    "    \"CLINICAL_EVENT\",\n",
    "    \"TYPE\",\n",
    "    \"TESTNAME\",\n",
    "    \"TESTVALUE\",\n",
    "    \"UNITS\"\n",
    "]"
   ]
  },
  {
   "cell_type": "code",
   "execution_count": 4,
   "metadata": {},
   "outputs": [],
   "source": [
    "interest[\"pd_features\"] = \\\n",
    "[\n",
    "    \"PATNO\",\n",
    "    \"SXMO\",\n",
    "    \"SXYEAR\",\n",
    "    \"PDDXDT\"\n",
    "]"
   ]
  },
  {
   "cell_type": "code",
   "execution_count": 5,
   "metadata": {},
   "outputs": [],
   "source": [
    "interest[\"pd_medication\"] = \\\n",
    "[\n",
    "    \"PATNO\",\n",
    "    \"EVENT_ID\",\n",
    "    \"PDMEDYN\",\n",
    "    \"ONLDOPA\",\n",
    "    \"ONDOPAG\",\n",
    "    \"ONOTHER\"\n",
    "]"
   ]
  },
  {
   "cell_type": "code",
   "execution_count": 6,
   "metadata": {},
   "outputs": [],
   "source": [
    "interest[\"vital_sign\"] = \\\n",
    "[\n",
    "    \"PATNO\",\n",
    "    \"EVENT_ID\",\n",
    "    \"WGTKG\",\n",
    "    \"HTCM\"\n",
    "]"
   ]
  },
  {
   "cell_type": "code",
   "execution_count": 7,
   "metadata": {},
   "outputs": [],
   "source": [
    "interest[\"neuro_cranial\"] = \\\n",
    "[\n",
    "    \"PATNO\",\n",
    "    \"EVENT_ID\",\n",
    "    \"CN1RSP\",\n",
    "    \"CN2RSP\",\n",
    "    \"CN346RSP\",\n",
    "    \"CN5RSP\",\n",
    "    \"CN7RSP\",\n",
    "    \"CN8RSP\",\n",
    "    \"CN910RSP\",\n",
    "    \"CN11RSP\",\n",
    "    \"CN12RSP\"\n",
    "]"
   ]
  },
  {
   "cell_type": "code",
   "execution_count": 8,
   "metadata": {},
   "outputs": [],
   "source": [
    "interest[\"updrs1\"] = \\\n",
    "[\n",
    "    \"PATNO\",\n",
    "    \"EVENT_ID\",\n",
    "    \"INFODT\",\n",
    "    \"NP1COG\",\n",
    "    \"NP1HALL\",\n",
    "    \"NP1DPRS\",\n",
    "    \"NP1ANXS\",\n",
    "    \"NP1APAT\",\n",
    "    \"NP1DDS\"\n",
    "]"
   ]
  },
  {
   "cell_type": "code",
   "execution_count": 9,
   "metadata": {},
   "outputs": [],
   "source": [
    "interest[\"updrs1pq\"] = \\\n",
    "[\n",
    "    \"PATNO\",\n",
    "    \"EVENT_ID\",\n",
    "    \"NP1SLPN\",\n",
    "    \"NP1SLPD\",\n",
    "    \"NP1PAIN\",\n",
    "    \"NP1URIN\",\n",
    "    \"NP1CNST\",\n",
    "    \"NP1LTHD\",\n",
    "    \"NP1FATG\"\n",
    "]"
   ]
  },
  {
   "cell_type": "code",
   "execution_count": 10,
   "metadata": {},
   "outputs": [],
   "source": [
    "interest[\"updrs2pq\"] = \\\n",
    "[\n",
    "    \"PATNO\",\n",
    "    \"EVENT_ID\",\n",
    "    \"NP2SPCH\",\n",
    "    \"NP2SALV\",\n",
    "    \"NP2SWAL\",\n",
    "    \"NP2EAT\",\n",
    "    \"NP2DRES\",\n",
    "    \"NP2HYGN\",\n",
    "    \"NP2HWRT\",\n",
    "    \"NP2HOBB\",\n",
    "    \"NP2TURN\",\n",
    "    \"NP2TRMR\",\n",
    "    \"NP2RISE\",\n",
    "    \"NP2WALK\",\n",
    "    \"NP2FREZ\"\n",
    "]"
   ]
  },
  {
   "cell_type": "code",
   "execution_count": 11,
   "metadata": {},
   "outputs": [],
   "source": [
    "interest[\"updrs3_temp\"] = \\\n",
    "[\n",
    "    \"PATNO\",\n",
    "    \"EVENT_ID\",\n",
    "    \"PAG_NAME\",\n",
    "    \"CMEDTM\",\n",
    "    \"EXAMTM\",\n",
    "    \"NP3SPCH\",\n",
    "    \"NP3FACXP\",\n",
    "    \"NP3RIGN\",\n",
    "    \"NP3RIGRU\",\n",
    "    \"NP3RIGLU\",\n",
    "    \"PN3RIGRL\",\n",
    "    \"NP3RIGLL\",\n",
    "    \"NP3FTAPR\",\n",
    "    \"NP3FTAPL\",\n",
    "    \"NP3HMOVR\",\n",
    "    \"NP3HMOVL\",\n",
    "    \"NP3PRSPR\",\n",
    "    \"NP3PRSPL\",\n",
    "    \"NP3TTAPR\",\n",
    "    \"NP3TTAPL\",\n",
    "    \"NP3LGAGR\",\n",
    "    \"NP3LGAGL\",\n",
    "    \"NP3RISNG\",\n",
    "    \"NP3GAIT\",\n",
    "    \"NP3FRZGT\",\n",
    "    \"NP3PSTBL\",\n",
    "    \"NP3POSTR\",\n",
    "    \"NP3BRADY\",\n",
    "    \"NP3PTRMR\",\n",
    "    \"NP3PTRML\",\n",
    "    \"NP3KTRMR\",\n",
    "    \"NP3KTRML\",\n",
    "    \"NP3RTARU\",\n",
    "    \"NP3RTALU\",\n",
    "    \"NP3RTARL\",\n",
    "    \"NP3RTALL\",\n",
    "    \"NP3RTALJ\",\n",
    "    \"NP3RTCON\",\n",
    "    \"DYSKPRES\",\n",
    "    \"DYSKIRAT\",\n",
    "    \"NHY\",\n",
    "    \"ANNUAL_TIME_BTW_DOSE_NUPDRS\",\n",
    "    \"ON_OFF_DOSE\",\n",
    "    \"PD_MED_USE\"\n",
    "]"
   ]
  },
  {
   "cell_type": "code",
   "execution_count": 12,
   "metadata": {},
   "outputs": [],
   "source": [
    "interest[\"updrs3\"] = \\\n",
    "[\n",
    "    \"PATNO\",\n",
    "    \"EVENT_ID\",\n",
    "    \"NP3SPCH\",\n",
    "    \"NP3FACXP\",\n",
    "    \"NP3RIGN\",\n",
    "    \"NP3RIGRU\",\n",
    "    \"NP3RIGLU\",\n",
    "    \"PN3RIGRL\",\n",
    "    \"NP3RIGLL\",\n",
    "    \"NP3FTAPR\",\n",
    "    \"NP3FTAPL\",\n",
    "    \"NP3HMOVR\",\n",
    "    \"NP3HMOVL\",\n",
    "    \"NP3PRSPR\",\n",
    "    \"NP3PRSPL\",\n",
    "    \"NP3TTAPR\",\n",
    "    \"NP3TTAPL\",\n",
    "    \"NP3LGAGR\",\n",
    "    \"NP3LGAGL\",\n",
    "    \"NP3RISNG\",\n",
    "    \"NP3GAIT\",\n",
    "    \"NP3FRZGT\",\n",
    "    \"NP3PSTBL\",\n",
    "    \"NP3POSTR\",\n",
    "    \"NP3BRADY\",\n",
    "    \"NP3PTRMR\",\n",
    "    \"NP3PTRML\",\n",
    "    \"NP3KTRMR\",\n",
    "    \"NP3KTRML\",\n",
    "    \"NP3RTARU\",\n",
    "    \"NP3RTALU\",\n",
    "    \"NP3RTARL\",\n",
    "    \"NP3RTALL\",\n",
    "    \"NP3RTALJ\",\n",
    "    \"NP3RTCON\"\n",
    "]"
   ]
  },
  {
   "cell_type": "code",
   "execution_count": 13,
   "metadata": {},
   "outputs": [],
   "source": [
    "interest[\"updrs4\"] = \\\n",
    "[\n",
    "    \"PATNO\",\n",
    "    \"EVENT_ID\",\n",
    "    \"NP4WDYSK\",\n",
    "    \"NP4DYSKI\",\n",
    "    \"NP4OFF\",\n",
    "    \"NP4FLCTI\",\n",
    "    \"NP4FLCTX\",\n",
    "    \"NP4DYSTN\"\n",
    "]"
   ]
  },
  {
   "cell_type": "code",
   "execution_count": 14,
   "metadata": {},
   "outputs": [],
   "source": [
    "interest[\"schwab\"] = \\\n",
    "[\n",
    "    \"PATNO\",\n",
    "    \"EVENT_ID\",\n",
    "    \"MSEADLG\"\n",
    "]"
   ]
  },
  {
   "cell_type": "code",
   "execution_count": 15,
   "metadata": {},
   "outputs": [],
   "source": [
    "interest[\"pase_house\"] = \\\n",
    "[\n",
    "    \"PATNO\",\n",
    "    \"EVENT_ID\",\n",
    "    \"LTHSWRK\",\n",
    "    \"HVYHSWRK\",\n",
    "    \"HMREPR\",\n",
    "    \"LAWNWRK\",\n",
    "    \"OUTGARDN\",\n",
    "    \"CAREGVR\",\n",
    "    \"WRKVL\",\n",
    "    \"WRKVLHR\",\n",
    "    \"WRKVLACT\"\n",
    "]"
   ]
  },
  {
   "cell_type": "code",
   "execution_count": 16,
   "metadata": {},
   "outputs": [],
   "source": [
    "interest[\"benton\"] = \\\n",
    "[\n",
    "    \"PATNO\",\n",
    "    \"EVENT_ID\",\n",
    "    \"JLO_TOTRAW\"\n",
    "]"
   ]
  },
  {
   "cell_type": "code",
   "execution_count": 17,
   "metadata": {},
   "outputs": [],
   "source": [
    "interest[\"cog_catg\"] = \\\n",
    "[\n",
    "    \"PATNO\",\n",
    "    \"EVENT_ID\",\n",
    "    \"COGDECLN\",\n",
    "    \"FNCDTCOG\",\n",
    "    \"COGSTATE\"\n",
    "]"
   ]
  },
  {
   "cell_type": "code",
   "execution_count": 18,
   "metadata": {},
   "outputs": [],
   "source": [
    "interest[\"epworth\"] = \\\n",
    "[\n",
    "    \"PATNO\",\n",
    "    \"EVENT_ID\",\n",
    "    \"ESS1\",\n",
    "    \"ESS2\",\n",
    "    \"ESS3\",\n",
    "    \"ESS4\",\n",
    "    \"ESS5\",\n",
    "    \"ESS6\",\n",
    "    \"ESS7\",\n",
    "    \"ESS8\"\n",
    "]"
   ]
  },
  {
   "cell_type": "code",
   "execution_count": 19,
   "metadata": {},
   "outputs": [],
   "source": [
    "interest[\"geriatric\"] = \\\n",
    "[\n",
    "    \"PATNO\",\n",
    "    \"EVENT_ID\",\n",
    "    \"GDSSATIS\",\n",
    "    \"GDSDROPD\",\n",
    "    \"GDSEMPTY\",\n",
    "    \"GDSBORED\",\n",
    "    \"GDSGSPIR\",\n",
    "    \"GDSAFRAD\",\n",
    "    \"GDSHAPPY\",\n",
    "    \"GDSHLPLS\",\n",
    "    \"GDSHOME\",\n",
    "    \"GDSMEMRY\",\n",
    "    \"GDSALIVE\",\n",
    "    \"GDSWRTLS\",\n",
    "    \"GDSENRGY\",\n",
    "    \"GDSHOPLS\",\n",
    "    \"GDSBETER\"\n",
    "]"
   ]
  },
  {
   "cell_type": "code",
   "execution_count": 20,
   "metadata": {},
   "outputs": [],
   "source": [
    "interest[\"geriatric_pos\"] = \\\n",
    "[\n",
    "    \"GDSDROPD\",\n",
    "    \"GDSEMPTY\",\n",
    "    \"GDSBORED\",\n",
    "    \"GDSAFRAD\",\n",
    "    \"GDSHLPLS\",\n",
    "    \"GDSHOME\",\n",
    "    \"GDSMEMRY\",\n",
    "    \"GDSWRTLS\",\n",
    "    \"GDSHOPLS\",\n",
    "    \"GDSBETER\"\n",
    "]"
   ]
  },
  {
   "cell_type": "code",
   "execution_count": 21,
   "metadata": {},
   "outputs": [],
   "source": [
    "interest[\"geriatric_neg\"] = \\\n",
    "[\n",
    "    \"GDSSATIS\",\n",
    "    \"GDSGSPIR\",\n",
    "    \"GDSHAPPY\",\n",
    "    \"GDSALIVE\",\n",
    "    \"GDSENRGY\"\n",
    "]"
   ]
  },
  {
   "cell_type": "code",
   "execution_count": 22,
   "metadata": {},
   "outputs": [],
   "source": [
    "interest[\"hopkins_verbal\"] = \\\n",
    "[\n",
    "    \"PATNO\",\n",
    "    \"EVENT_ID\",\n",
    "    \"HVLTRT1\",\n",
    "    \"HVLTRT2\",\n",
    "    \"HVLTRT3\",\n",
    "    \"HVLTRDLY\",\n",
    "    \"HVLTREC\",\n",
    "    \"HVLTFPRL\",\n",
    "    \"HVLTFPUN\"\n",
    "]"
   ]
  },
  {
   "cell_type": "code",
   "execution_count": 23,
   "metadata": {},
   "outputs": [],
   "source": [
    "interest[\"letter_seq\"] = \\\n",
    "[\n",
    "    \"PATNO\",\n",
    "    \"EVENT_ID\",\n",
    "    \"LNS_TOTRAW\"\n",
    "]"
   ]
  },
  {
   "cell_type": "code",
   "execution_count": 24,
   "metadata": {},
   "outputs": [],
   "source": [
    "interest[\"moca\"] = \\\n",
    "[\n",
    "    \"PATNO\",\n",
    "    \"EVENT_ID\",\n",
    "    \"MCAALTTM\",\n",
    "    \"MCACUBE\",\n",
    "    \"MCACLCKC\",\n",
    "    \"MCACLCKN\",\n",
    "    \"MCACLCKH\",\n",
    "    \"MCALION\",\n",
    "    \"MCARHINO\",\n",
    "    \"MCACAMEL\",\n",
    "    \"MCAFDS\",\n",
    "    \"MCABDS\",\n",
    "    \"MCAVIGIL\",\n",
    "    \"MCASER7\",\n",
    "    \"MCASNTNC\",\n",
    "    \"MCAVFNUM\",\n",
    "    \"MCAVF\",\n",
    "    \"MCAABSTR\",\n",
    "    \"MCAREC1\",\n",
    "    \"MCAREC2\",\n",
    "    \"MCAREC3\",\n",
    "    \"MCAREC4\",\n",
    "    \"MCAREC5\",\n",
    "    \"MCADATE\",\n",
    "    \"MCAMONTH\",\n",
    "    \"MCAYR\",\n",
    "    \"MCADAY\",\n",
    "    \"MCAPLACE\",\n",
    "    \"MCACITY\",\n",
    "    \"MCATOT\"\n",
    "]"
   ]
  },
  {
   "cell_type": "code",
   "execution_count": 25,
   "metadata": {},
   "outputs": [],
   "source": [
    "interest[\"moca_visuospatial\"] = \\\n",
    "[\n",
    "    \"MCAALTTM\",\n",
    "    \"MCACUBE\",\n",
    "    \"MCACLCKC\",\n",
    "    \"MCACLCKN\",\n",
    "    \"MCACLCKH\"\n",
    "]"
   ]
  },
  {
   "cell_type": "code",
   "execution_count": 26,
   "metadata": {},
   "outputs": [],
   "source": [
    "interest[\"moca_naming\"] = \\\n",
    "[\n",
    "    \"MCALION\",\n",
    "    \"MCARHINO\",\n",
    "    \"MCACAMEL\"\n",
    "]"
   ]
  },
  {
   "cell_type": "code",
   "execution_count": 27,
   "metadata": {},
   "outputs": [],
   "source": [
    "interest[\"moca_attention\"] = \\\n",
    "[\n",
    "    \"MCAFDS\",\n",
    "    \"MCABDS\",\n",
    "    \"MCAVIGIL\",\n",
    "    \"MCASER7\"\n",
    "]"
   ]
  },
  {
   "cell_type": "code",
   "execution_count": 28,
   "metadata": {},
   "outputs": [],
   "source": [
    "interest[\"moca_language\"] = \\\n",
    "[\n",
    "    \"MCASNTNC\",\n",
    "    \"MCAVF\"\n",
    "]"
   ]
  },
  {
   "cell_type": "code",
   "execution_count": 29,
   "metadata": {},
   "outputs": [],
   "source": [
    "interest[\"moca_delayed_recall\"] = \\\n",
    "[\n",
    "    \"MCAREC1\",\n",
    "    \"MCAREC2\",\n",
    "    \"MCAREC3\",\n",
    "    \"MCAREC4\",\n",
    "    \"MCAREC5\"\n",
    "]"
   ]
  },
  {
   "cell_type": "code",
   "execution_count": 30,
   "metadata": {},
   "outputs": [],
   "source": [
    "interest[\"moca_orientation\"] = \\\n",
    "[\n",
    "    \"MCADATE\",\n",
    "    \"MCAMONTH\",\n",
    "    \"MCAYR\",\n",
    "    \"MCADAY\",\n",
    "    \"MCAPLACE\",\n",
    "    \"MCACITY\"\n",
    "]"
   ]
  },
  {
   "cell_type": "code",
   "execution_count": 31,
   "metadata": {},
   "outputs": [],
   "source": [
    "interest[\"upsit\"] = \\\n",
    "[\n",
    "    \"SUBJECT_ID\",\n",
    "    \"SCENT_10_RESPONSE\",\n",
    "    \"SCENT_09_RESPONSE\",\n",
    "    \"SCENT_08_RESPONSE\",\n",
    "    \"SCENT_07_RESPONSE\",\n",
    "    \"SCENT_06_RESPONSE\",\n",
    "    \"SCENT_05_RESPONSE\",\n",
    "    \"SCENT_04_RESPONSE\",\n",
    "    \"SCENT_03_RESPONSE\",\n",
    "    \"SCENT_02_RESPONSE\",\n",
    "    \"SCENT_01_RESPONSE\",\n",
    "    \"SCENT_20_RESPONSE\",\n",
    "    \"SCENT_19_RESPONSE\",\n",
    "    \"SCENT_18_RESPONSE\",\n",
    "    \"SCENT_17_RESPONSE\",\n",
    "    \"SCENT_16_RESPONSE\",\n",
    "    \"SCENT_15_RESPONSE\",\n",
    "    \"SCENT_14_RESPONSE\",\n",
    "    \"SCENT_13_RESPONSE\",\n",
    "    \"SCENT_12_RESPONSE\",\n",
    "    \"SCENT_11_RESPONSE\",\n",
    "    \"SCENT_30_RESPONSE\",\n",
    "    \"SCENT_29_RESPONSE\",\n",
    "    \"SCENT_28_RESPONSE\",\n",
    "    \"SCENT_27_RESPONSE\",\n",
    "    \"SCENT_26_RESPONSE\",\n",
    "    \"SCENT_25_RESPONSE\",\n",
    "    \"SCENT_24_RESPONSE\",\n",
    "    \"SCENT_23_RESPONSE\",\n",
    "    \"SCENT_22_RESPONSE\",\n",
    "    \"SCENT_21_RESPONSE\",\n",
    "    \"SCENT_40_RESPONSE\",\n",
    "    \"SCENT_39_RESPONSE\",\n",
    "    \"SCENT_38_RESPONSE\",\n",
    "    \"SCENT_37_RESPONSE\",\n",
    "    \"SCENT_36_RESPONSE\",\n",
    "    \"SCENT_35_RESPONSE\",\n",
    "    \"SCENT_34_RESPONSE\",\n",
    "    \"SCENT_33_RESPONSE\",\n",
    "    \"SCENT_32_RESPONSE\",\n",
    "    \"SCENT_31_RESPONSE\",\n",
    "    \"SCENT_10_CORRECT\",\n",
    "    \"SCENT_09_CORRECT\",\n",
    "    \"SCENT_08_CORRECT\",\n",
    "    \"SCENT_07_CORRECT\",\n",
    "    \"SCENT_06_CORRECT\",\n",
    "    \"SCENT_05_CORRECT\",\n",
    "    \"SCENT_04_CORRECT\",\n",
    "    \"SCENT_03_CORRECT\",\n",
    "    \"SCENT_02_CORRECT\",\n",
    "    \"SCENT_01_CORRECT\",\n",
    "    \"SCENT_20_CORRECT\",\n",
    "    \"SCENT_19_CORRECT\",\n",
    "    \"SCENT_18_CORRECT\",\n",
    "    \"SCENT_17_CORRECT\",\n",
    "    \"SCENT_16_CORRECT\",\n",
    "    \"SCENT_15_CORRECT\",\n",
    "    \"SCENT_14_CORRECT\",\n",
    "    \"SCENT_13_CORRECT\",\n",
    "    \"SCENT_12_CORRECT\",\n",
    "    \"SCENT_11_CORRECT\",\n",
    "    \"SCENT_30_CORRECT\",\n",
    "    \"SCENT_29_CORRECT\",\n",
    "    \"SCENT_28_CORRECT\",\n",
    "    \"SCENT_27_CORRECT\",\n",
    "    \"SCENT_26_CORRECT\",\n",
    "    \"SCENT_25_CORRECT\",\n",
    "    \"SCENT_24_CORRECT\",\n",
    "    \"SCENT_23_CORRECT\",\n",
    "    \"SCENT_22_CORRECT\",\n",
    "    \"SCENT_21_CORRECT\",\n",
    "    \"SCENT_40_CORRECT\",\n",
    "    \"SCENT_39_CORRECT\",\n",
    "    \"SCENT_38_CORRECT\",\n",
    "    \"SCENT_37_CORRECT\",\n",
    "    \"SCENT_36_CORRECT\",\n",
    "    \"SCENT_35_CORRECT\",\n",
    "    \"SCENT_34_CORRECT\",\n",
    "    \"SCENT_33_CORRECT\",\n",
    "    \"SCENT_32_CORRECT\",\n",
    "    \"SCENT_31_CORRECT\",\n",
    "    \"TOTAL_CORRECT\"\n",
    "]"
   ]
  },
  {
   "cell_type": "code",
   "execution_count": 32,
   "metadata": {},
   "outputs": [],
   "source": [
    "interest[\"quip\"] = \\\n",
    "[\n",
    "    \"PATNO\",\n",
    "    \"EVENT_ID\",\n",
    "    \"TMGAMBLE\",\n",
    "    \"CNTRLGMB\",\n",
    "    \"TMSEX\",\n",
    "    \"CNTRLSEX\",\n",
    "    \"TMBUY\",\n",
    "    \"CNTRLBUY\",\n",
    "    \"TMEAT\",\n",
    "    \"CNTRLEAT\",\n",
    "    \"TMTORACT\",\n",
    "    \"TMTMTACT\",\n",
    "    \"TMTRWD\"\n",
    "]"
   ]
  },
  {
   "cell_type": "code",
   "execution_count": 33,
   "metadata": {},
   "outputs": [],
   "source": [
    "interest[\"rem\"] = \\\n",
    "[\n",
    "    \"PATNO\",\n",
    "    \"EVENT_ID\",\n",
    "    \"DRMVIVID\",\n",
    "    \"DRMAGRAC\",\n",
    "    \"DRMNOCTB\",\n",
    "    \"SLPLMBMV\",\n",
    "    \"SLPINJUR\",\n",
    "    \"DRMVERBL\",\n",
    "    \"DRMFIGHT\",\n",
    "    \"DRMUMV\",\n",
    "    \"DRMOBJFL\",\n",
    "    \"MVAWAKEN\",\n",
    "    \"DRMREMEM\",\n",
    "    \"SLPDSTRB\",\n",
    "    \"STROKE\",\n",
    "    \"HETRA\",\n",
    "    \"RLS\",\n",
    "    \"NARCLPSY\",\n",
    "    \"DEPRS\",\n",
    "    \"EPILEPSY\",\n",
    "    \"BRNINFM\"\n",
    "]"
   ]
  },
  {
   "cell_type": "code",
   "execution_count": 34,
   "metadata": {},
   "outputs": [],
   "source": [
    "interest[\"aut\"] = \\\n",
    "[\n",
    "    \"PATNO\",\n",
    "    \"EVENT_ID\",\n",
    "    \"SCAU1\",\n",
    "    \"SCAU2\",\n",
    "    \"SCAU3\",\n",
    "    \"SCAU4\",\n",
    "    \"SCAU5\",\n",
    "    \"SCAU6\",\n",
    "    \"SCAU7\",\n",
    "    \"SCAU8\",\n",
    "    \"SCAU9\",\n",
    "    \"SCAU10\",\n",
    "    \"SCAU11\",\n",
    "    \"SCAU12\",\n",
    "    \"SCAU13\",\n",
    "    \"SCAU14\",\n",
    "    \"SCAU15\",\n",
    "    \"SCAU16\",\n",
    "    \"SCAU17\",\n",
    "    \"SCAU18\",\n",
    "    \"SCAU19\",\n",
    "    \"SCAU20\",\n",
    "    \"SCAU21\",\n",
    "    \"SCAU22\",\n",
    "    \"SCAU23\",\n",
    "    \"SCAU23A\",\n",
    "    \"SCAU23AT\",\n",
    "    \"SCAU24\",\n",
    "    \"SCAU25\",\n",
    "    \"SCAU26A\",\n",
    "    \"SCAU26AT\",\n",
    "    \"SCAU26B\",\n",
    "    \"SCAU26BT\",\n",
    "    \"SCAU26C\",\n",
    "    \"SCAU26CT\",\n",
    "    \"SCAU26D\",\n",
    "    \"SCAU26DT\"\n",
    "]"
   ]
  },
  {
   "cell_type": "code",
   "execution_count": 35,
   "metadata": {},
   "outputs": [],
   "source": [
    "interest[\"aut_gastrointestinal_up\"] = \\\n",
    "[\n",
    "    \"SCAU1\",\n",
    "    \"SCAU2\",\n",
    "    \"SCAU3\"\n",
    "]"
   ]
  },
  {
   "cell_type": "code",
   "execution_count": 36,
   "metadata": {},
   "outputs": [],
   "source": [
    "interest[\"aut_gastrointestinal_down\"] = \\\n",
    "[\n",
    "    \"SCAU4\",\n",
    "    \"SCAU5\",\n",
    "    \"SCAU6\",\n",
    "    \"SCAU7\"\n",
    "]"
   ]
  },
  {
   "cell_type": "code",
   "execution_count": 37,
   "metadata": {},
   "outputs": [],
   "source": [
    "interest[\"aut_urinary\"] = \\\n",
    "[\n",
    "    \"SCAU8\",\n",
    "    \"SCAU9\",\n",
    "    \"SCAU10\",\n",
    "    \"SCAU11\",\n",
    "    \"SCAU12\",\n",
    "    \"SCAU13\"\n",
    "]"
   ]
  },
  {
   "cell_type": "code",
   "execution_count": 38,
   "metadata": {},
   "outputs": [],
   "source": [
    "interest[\"aut_cardiovascular\"] = \\\n",
    "[\n",
    "    \"SCAU14\",\n",
    "    \"SCAU15\",\n",
    "    \"SCAU16\"\n",
    "]"
   ]
  },
  {
   "cell_type": "code",
   "execution_count": 39,
   "metadata": {},
   "outputs": [],
   "source": [
    "interest[\"aut_thermoregulatory\"] = \\\n",
    "[\n",
    "    \"SCAU17\",\n",
    "    \"SCAU18\"\n",
    "]"
   ]
  },
  {
   "cell_type": "code",
   "execution_count": 40,
   "metadata": {},
   "outputs": [],
   "source": [
    "interest[\"aut_pupillomotor\"] = \\\n",
    "[\n",
    "    \"SCAU19\"\n",
    "]"
   ]
  },
  {
   "cell_type": "code",
   "execution_count": 41,
   "metadata": {},
   "outputs": [],
   "source": [
    "interest[\"aut_skin\"] = \\\n",
    "[\n",
    "    \"SCAU20\",\n",
    "    \"SCAU21\"\n",
    "]"
   ]
  },
  {
   "cell_type": "code",
   "execution_count": 42,
   "metadata": {},
   "outputs": [],
   "source": [
    "interest[\"aut_sexual\"] = \\\n",
    "[\n",
    "    \"SCAU22\",\n",
    "    \"SCAU23\",\n",
    "    \"SCAU24\",\n",
    "    \"SCAU25\"\n",
    "]"
   ]
  },
  {
   "cell_type": "code",
   "execution_count": 43,
   "metadata": {},
   "outputs": [],
   "source": [
    "interest[\"semantic\"] = \\\n",
    "[\n",
    "    \"PATNO\",\n",
    "    \"EVENT_ID\",\n",
    "    \"VLTANIM\",\n",
    "    \"VLTVEG\",\n",
    "    \"VLTFRUIT\"\n",
    "]"
   ]
  },
  {
   "cell_type": "code",
   "execution_count": 44,
   "metadata": {},
   "outputs": [],
   "source": [
    "interest[\"stai\"] = \\\n",
    "[\n",
    "    \"PATNO\",\n",
    "    \"EVENT_ID\",\n",
    "    \"STAIAD1\",\n",
    "    \"STAIAD2\",\n",
    "    \"STAIAD3\",\n",
    "    \"STAIAD4\",\n",
    "    \"STAIAD5\",\n",
    "    \"STAIAD6\",\n",
    "    \"STAIAD7\",\n",
    "    \"STAIAD8\",\n",
    "    \"STAIAD9\",\n",
    "    \"STAIAD10\",\n",
    "    \"STAIAD11\",\n",
    "    \"STAIAD12\",\n",
    "    \"STAIAD13\",\n",
    "    \"STAIAD14\",\n",
    "    \"STAIAD15\",\n",
    "    \"STAIAD16\",\n",
    "    \"STAIAD17\",\n",
    "    \"STAIAD18\",\n",
    "    \"STAIAD19\",\n",
    "    \"STAIAD20\",\n",
    "    \"STAIAD21\",\n",
    "    \"STAIAD22\",\n",
    "    \"STAIAD23\",\n",
    "    \"STAIAD24\",\n",
    "    \"STAIAD25\",\n",
    "    \"STAIAD26\",\n",
    "    \"STAIAD27\",\n",
    "    \"STAIAD28\",\n",
    "    \"STAIAD29\",\n",
    "    \"STAIAD30\",\n",
    "    \"STAIAD31\",\n",
    "    \"STAIAD32\",\n",
    "    \"STAIAD33\",\n",
    "    \"STAIAD34\",\n",
    "    \"STAIAD35\",\n",
    "    \"STAIAD36\",\n",
    "    \"STAIAD37\",\n",
    "    \"STAIAD38\",\n",
    "    \"STAIAD39\",\n",
    "    \"STAIAD40\"\n",
    "]"
   ]
  },
  {
   "cell_type": "code",
   "execution_count": 45,
   "metadata": {},
   "outputs": [],
   "source": [
    "interest[\"stai_a_state_pos\"] = \\\n",
    "[\n",
    "    \"STAIAD3\",\n",
    "    \"STAIAD4\",\n",
    "    \"STAIAD6\",\n",
    "    \"STAIAD7\",\n",
    "    \"STAIAD9\",\n",
    "    \"STAIAD12\",\n",
    "    \"STAIAD13\",\n",
    "    \"STAIAD14\",\n",
    "    \"STAIAD17\",\n",
    "    \"STAIAD18\"\n",
    "]"
   ]
  },
  {
   "cell_type": "code",
   "execution_count": 46,
   "metadata": {},
   "outputs": [],
   "source": [
    "interest[\"stai_a_state_neg\"] = \\\n",
    "[\n",
    "    \"STAIAD1\",\n",
    "    \"STAIAD2\",\n",
    "    \"STAIAD5\",\n",
    "    \"STAIAD8\",\n",
    "    \"STAIAD10\",\n",
    "    \"STAIAD11\",\n",
    "    \"STAIAD15\",\n",
    "    \"STAIAD16\",\n",
    "    \"STAIAD19\",\n",
    "    \"STAIAD20\"\n",
    "]"
   ]
  },
  {
   "cell_type": "code",
   "execution_count": 47,
   "metadata": {},
   "outputs": [],
   "source": [
    "interest[\"stai_a_trait_pos\"] = \\\n",
    "[\n",
    "    \"STAIAD22\",\n",
    "    \"STAIAD24\",\n",
    "    \"STAIAD25\",\n",
    "    \"STAIAD28\",\n",
    "    \"STAIAD29\",\n",
    "    \"STAIAD31\",\n",
    "    \"STAIAD32\",\n",
    "    \"STAIAD35\",\n",
    "    \"STAIAD37\",\n",
    "    \"STAIAD38\",\n",
    "    \"STAIAD40\"\n",
    "]"
   ]
  },
  {
   "cell_type": "code",
   "execution_count": 48,
   "metadata": {},
   "outputs": [],
   "source": [
    "interest[\"stai_a_trait_neg\"] = \\\n",
    "[\n",
    "    \"STAIAD21\",\n",
    "    \"STAIAD23\",\n",
    "    \"STAIAD26\",\n",
    "    \"STAIAD27\",\n",
    "    \"STAIAD30\",\n",
    "    \"STAIAD33\",\n",
    "    \"STAIAD34\",\n",
    "    \"STAIAD36\",\n",
    "    \"STAIAD39\"\n",
    "]"
   ]
  },
  {
   "cell_type": "code",
   "execution_count": 49,
   "metadata": {},
   "outputs": [],
   "source": [
    "interest[\"sdm\"] = \\\n",
    "[\n",
    "    \"PATNO\",\n",
    "    \"EVENT_ID\",\n",
    "    \"SDMTOTAL\"]"
   ]
  },
  {
   "cell_type": "code",
   "execution_count": 50,
   "metadata": {},
   "outputs": [],
   "source": [
    "interest[\"upsit_booklet\"] = [\n",
    "    \"PATNO\",\n",
    "    \"EVENT_ID\",\n",
    "    \"UPSITBK1\",\n",
    "    \"UPSITBK2\",\n",
    "    \"UPSITBK3\",\n",
    "    \"UPSITBK4\"\n",
    "]"
   ]
  },
  {
   "cell_type": "code",
   "execution_count": 51,
   "metadata": {},
   "outputs": [],
   "source": [
    "interest[\"family_history\"] = \\\n",
    "[\n",
    "    \"PATNO\",\n",
    "    \"BIOMOM\",\n",
    "    \"BIOMOMPD\",\n",
    "    \"BIODAD\",\n",
    "    \"BIODADPD\",\n",
    "    \"FULSIB\",\n",
    "    \"FULSIBPD\",\n",
    "    \"HAFSIB\",\n",
    "    \"HAFSIBPD\",\n",
    "    \"MAGPAR\",\n",
    "    \"MAGPARPD\",\n",
    "    \"PAGPAR\",\n",
    "    \"PAGPARPD\",\n",
    "    \"MATAU\",\n",
    "    \"MATAUPD\",\n",
    "    \"PATAU\",\n",
    "    \"PATAUPD\",\n",
    "    \"KIDSNUM\",\n",
    "    \"KIDSPD\"\n",
    "]"
   ]
  },
  {
   "cell_type": "code",
   "execution_count": 52,
   "metadata": {},
   "outputs": [],
   "source": [
    "interest[\"status\"] = \\\n",
    "[\n",
    "    \"PATNO\",\n",
    "    \"RECRUITMENT_CAT\",\n",
    "    \"IMAGING_CAT\",\n",
    "    \"ENROLL_DATE\",\n",
    "    \"ENROLL_CAT\"\n",
    "]"
   ]
  },
  {
   "cell_type": "code",
   "execution_count": 53,
   "metadata": {},
   "outputs": [],
   "source": [
    "interest[\"screening\"] = \\\n",
    "[\n",
    "    \"PATNO\",\n",
    "    \"BIRTHDT\",\n",
    "    \"GENDER\",\n",
    "    \"APPRDX\",\n",
    "    \"CURRENT_APPRDX\",\n",
    "    \"HISPLAT\",\n",
    "    \"RAINDALS\",\n",
    "    \"RAASIAN\",\n",
    "    \"RABLACK\",\n",
    "    \"RAHAWOPI\",\n",
    "    \"RAWHITE\",\n",
    "    \"RANOS\"\n",
    "]"
   ]
  },
  {
   "cell_type": "code",
   "execution_count": 54,
   "metadata": {},
   "outputs": [],
   "source": [
    "interest[\"socio\"] = \\\n",
    "[\n",
    "    \"PATNO\",\n",
    "    \"EDUCYRS\",\n",
    "    \"HANDED\"\n",
    "]"
   ]
  },
  {
   "cell_type": "code",
   "execution_count": 55,
   "metadata": {},
   "outputs": [],
   "source": [
    "interest[\"primary_diag\"] = \\\n",
    "[\n",
    "    \"PATNO\",\n",
    "    \"PRIMDIAG\"\n",
    "]"
   ]
  },
  {
   "cell_type": "markdown",
   "metadata": {},
   "source": [
    "## Exportação de representação intermediária\n",
    "\n",
    "Salva o arquivo contendo a representação de interesses em um arquivo pickle (pkl) para ser utilizado em outros `jupyter notebooks`."
   ]
  },
  {
   "cell_type": "code",
   "execution_count": 56,
   "metadata": {},
   "outputs": [],
   "source": [
    "with open('../ir/data_ppmi.pkl', 'wb') as f:\n",
    "    pkl.dump(interest, f, pkl.HIGHEST_PROTOCOL)"
   ]
  }
 ],
 "metadata": {
  "kernelspec": {
   "display_name": "Python 3",
   "language": "python",
   "name": "python3"
  },
  "language_info": {
   "codemirror_mode": {
    "name": "ipython",
    "version": 3
   },
   "file_extension": ".py",
   "mimetype": "text/x-python",
   "name": "python",
   "nbconvert_exporter": "python",
   "pygments_lexer": "ipython3",
   "version": "3.6.5"
  }
 },
 "nbformat": 4,
 "nbformat_minor": 2
}
